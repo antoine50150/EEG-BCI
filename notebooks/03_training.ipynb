{
 "cells": [
  {
   "cell_type": "code",
   "execution_count": null,
   "id": "18e3b601-a0a2-4cd7-a2d5-ad8900322d7f",
   "metadata": {},
   "outputs": [],
   "source": [
    "import torch\n",
    "import torch.nn as nn\n",
    "import torch.optim as optim\n",
    "from torch.utils.data import TensorDataset, DataLoader\n",
    "import numpy as np\n",
    "import os, sys\n",
    "\n",
    "# Ajouter le dossier racine au path pour accéder à src/\n",
    "sys.path.append(os.path.abspath(\"..\"))\n",
    "\n",
    "from src.models.eegnet import EEGNetLight\n",
    "\n",
    "# Charger les données EEG déjà prétraitées\n",
    "data = np.load(\"../../data/processed/subject_1_epochs.npz\")\n",
    "X = data[\"X\"]  # (N, C, T)\n",
    "y = data[\"y\"]  # (N,)\n",
    "\n",
    "# 🔧 Corriger les labels si nécessaire (ex: 1, 2, 3 → 0, 1, 2)\n",
    "y = y - y.min()\n",
    "\n",
    "# Préparation des tenseurs\n",
    "X_tensor = torch.tensor(X, dtype=torch.float32).unsqueeze(1)  # [N, 1, C, T]\n",
    "y_tensor = torch.tensor(y, dtype=torch.long)\n",
    "\n",
    "# Dataset & DataLoader\n",
    "ds = TensorDataset(X_tensor, y_tensor)\n",
    "loader = DataLoader(ds, batch_size=8, shuffle=True)\n",
    "\n",
    "# Initialiser le modèle\n",
    "n_channels, n_timepoints = X.shape[1], X.shape[2]\n",
    "n_classes = len(np.unique(y))\n",
    "model = EEGNetLight(n_channels=n_channels, n_timepoints=n_timepoints, n_classes=n_classes)\n",
    "\n",
    "optimizer = optim.Adam(model.parameters(), lr=1e-3)\n",
    "criterion = nn.CrossEntropyLoss()\n",
    "\n",
    "# Boucle d'entraînement\n",
    "for epoch in range(10):\n",
    "    model.train()\n",
    "    total_loss = 0\n",
    "    correct = 0\n",
    "    total = 0\n",
    "\n",
    "    for xb, yb in loader:\n",
    "        optimizer.zero_grad()\n",
    "        preds = model(xb)\n",
    "        loss = criterion(preds, yb)\n",
    "        loss.backward()\n",
    "        optimizer.step()\n",
    "\n",
    "        total_loss += loss.item()\n",
    "        correct += (preds.argmax(1) == yb).sum().item()\n",
    "        total += yb.size(0)\n",
    "\n",
    "    acc = 100 * correct / total\n",
    "    print(f\"🧠 Epoch {epoch+1:02d} — Loss: {total_loss:.4f} — Acc: {acc:.2f}%\")\n"
   ]
  },
  {
   "cell_type": "code",
   "execution_count": null,
   "id": "c165018d-b791-4d6d-8dca-829cbb5fcbb1",
   "metadata": {},
   "outputs": [],
   "source": []
  }
 ],
 "metadata": {
  "kernelspec": {
   "display_name": "Python 3 (ipykernel)",
   "language": "python",
   "name": "python3"
  },
  "language_info": {
   "codemirror_mode": {
    "name": "ipython",
    "version": 3
   },
   "file_extension": ".py",
   "mimetype": "text/x-python",
   "name": "python",
   "nbconvert_exporter": "python",
   "pygments_lexer": "ipython3",
   "version": "3.10.17"
  }
 },
 "nbformat": 4,
 "nbformat_minor": 5
}

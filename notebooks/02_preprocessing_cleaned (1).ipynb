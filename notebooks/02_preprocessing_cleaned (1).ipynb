{
 "cells": [
  {
   "cell_type": "markdown",
   "id": "d4b6b310",
   "metadata": {},
   "source": [
    "# 📦 Prétraitement EEG – Multi-sujets avec structure réutilisable"
   ]
  },
  {
   "cell_type": "code",
   "execution_count": 1,
   "id": "0a40e719",
   "metadata": {},
   "outputs": [],
   "source": [
    "import os\n",
    "import mne\n",
    "import numpy as np\n",
    "import matplotlib.pyplot as plt"
   ]
  },
  {
   "cell_type": "code",
   "execution_count": 2,
   "id": "a9c7d1e0",
   "metadata": {},
   "outputs": [],
   "source": [
    "# 📁 Répertoire contenant les fichiers EDF\n",
    "DATA_DIR = r\"C:\\Users\\Antoi\\Documents\\EEG-BCI\\data\\raw\\physionet\"\n",
    "BAD_CHANNELS = ['FCZ', 'CZ', 'CPZ', 'FP1', 'FPZ', 'FP2', 'AFZ', 'FZ', 'PZ', 'POZ', 'OZ', 'IZ']\n",
    "EVENT_ID = dict(rest=1, left=2, right=3)  # À ajuster selon les annotations exactes"
   ]
  },
  {
   "cell_type": "code",
   "execution_count": 3,
   "id": "ac6ba4e4",
   "metadata": {},
   "outputs": [
    {
     "name": "stdout",
     "output_type": "stream",
     "text": [
      "🔄 Traitement de S001R06.edf\n",
      "Extracting EDF parameters from C:\\Users\\Antoi\\Documents\\EEG-BCI\\data\\raw\\physionet\\S001R06.edf...\n",
      "EDF file detected\n",
      "Setting channel info structure...\n",
      "Creating raw.info structure...\n",
      "Reading 0 ... 19999  =      0.000 ...   124.994 secs...\n",
      "EEG channel type selected for re-referencing\n",
      "Adding average EEG reference projection.\n",
      "1 projection items deactivated\n",
      "Average reference projection was added, but has not been applied yet. Use the apply_proj method to apply it.\n",
      "NOTE: pick_channels() is a legacy function. New code should use inst.pick(...).\n",
      "Filtering raw data in 1 contiguous segment\n",
      "Setting up band-pass filter from 1 - 40 Hz\n",
      "\n",
      "FIR filter parameters\n",
      "---------------------\n",
      "Designing a one-pass, zero-phase, non-causal bandpass filter:\n",
      "- Windowed time-domain design (firwin) method\n",
      "- Hamming window with 0.0194 passband ripple and 53 dB stopband attenuation\n",
      "- Lower passband edge: 1.00\n",
      "- Lower transition bandwidth: 1.00 Hz (-6 dB cutoff frequency: 0.50 Hz)\n",
      "- Upper passband edge: 40.00 Hz\n",
      "- Upper transition bandwidth: 10.00 Hz (-6 dB cutoff frequency: 45.00 Hz)\n",
      "- Filter length: 529 samples (3.306 s)\n",
      "\n",
      "Used Annotations descriptions: [np.str_('T0'), np.str_('T1'), np.str_('T2')]\n",
      "Not setting metadata\n",
      "30 matching events found\n",
      "No baseline correction applied\n",
      "Created an SSP operator (subspace dimension = 1)\n",
      "1 projection items activated\n",
      "Using data from preloaded Raw for 30 events and 321 original time points ...\n",
      "0 bad epochs dropped\n"
     ]
    },
    {
     "name": "stderr",
     "output_type": "stream",
     "text": [
      "[Parallel(n_jobs=1)]: Done  17 tasks      | elapsed:    0.0s\n",
      "[Parallel(n_jobs=1)]: Done  64 out of  64 | elapsed:    0.0s finished\n"
     ]
    },
    {
     "name": "stdout",
     "output_type": "stream",
     "text": [
      "🔄 Traitement de S001R10.edf\n",
      "Extracting EDF parameters from C:\\Users\\Antoi\\Documents\\EEG-BCI\\data\\raw\\physionet\\S001R10.edf...\n",
      "EDF file detected\n",
      "Setting channel info structure...\n",
      "Creating raw.info structure...\n",
      "Reading 0 ... 19999  =      0.000 ...   124.994 secs...\n",
      "EEG channel type selected for re-referencing\n",
      "Adding average EEG reference projection.\n",
      "1 projection items deactivated\n",
      "Average reference projection was added, but has not been applied yet. Use the apply_proj method to apply it.\n",
      "NOTE: pick_channels() is a legacy function. New code should use inst.pick(...).\n",
      "Filtering raw data in 1 contiguous segment\n",
      "Setting up band-pass filter from 1 - 40 Hz\n",
      "\n",
      "FIR filter parameters\n",
      "---------------------\n",
      "Designing a one-pass, zero-phase, non-causal bandpass filter:\n",
      "- Windowed time-domain design (firwin) method\n",
      "- Hamming window with 0.0194 passband ripple and 53 dB stopband attenuation\n",
      "- Lower passband edge: 1.00\n",
      "- Lower transition bandwidth: 1.00 Hz (-6 dB cutoff frequency: 0.50 Hz)\n",
      "- Upper passband edge: 40.00 Hz\n",
      "- Upper transition bandwidth: 10.00 Hz (-6 dB cutoff frequency: 45.00 Hz)\n",
      "- Filter length: 529 samples (3.306 s)\n",
      "\n",
      "Used Annotations descriptions: [np.str_('T0'), np.str_('T1'), np.str_('T2')]\n",
      "Not setting metadata\n",
      "30 matching events found\n",
      "No baseline correction applied\n",
      "Created an SSP operator (subspace dimension = 1)\n",
      "1 projection items activated\n",
      "Using data from preloaded Raw for 30 events and 321 original time points ...\n",
      "0 bad epochs dropped\n",
      "🔄 Traitement de S001R14.edf\n",
      "Extracting EDF parameters from C:\\Users\\Antoi\\Documents\\EEG-BCI\\data\\raw\\physionet\\S001R14.edf...\n",
      "EDF file detected\n",
      "Setting channel info structure...\n"
     ]
    },
    {
     "name": "stderr",
     "output_type": "stream",
     "text": [
      "[Parallel(n_jobs=1)]: Done  17 tasks      | elapsed:    0.0s\n",
      "[Parallel(n_jobs=1)]: Done  64 out of  64 | elapsed:    0.0s finished\n"
     ]
    },
    {
     "name": "stdout",
     "output_type": "stream",
     "text": [
      "Creating raw.info structure...\n",
      "Reading 0 ... 19999  =      0.000 ...   124.994 secs...\n",
      "EEG channel type selected for re-referencing\n",
      "Adding average EEG reference projection.\n",
      "1 projection items deactivated\n",
      "Average reference projection was added, but has not been applied yet. Use the apply_proj method to apply it.\n",
      "NOTE: pick_channels() is a legacy function. New code should use inst.pick(...).\n",
      "Filtering raw data in 1 contiguous segment\n",
      "Setting up band-pass filter from 1 - 40 Hz\n",
      "\n",
      "FIR filter parameters\n",
      "---------------------\n",
      "Designing a one-pass, zero-phase, non-causal bandpass filter:\n",
      "- Windowed time-domain design (firwin) method\n",
      "- Hamming window with 0.0194 passband ripple and 53 dB stopband attenuation\n",
      "- Lower passband edge: 1.00\n",
      "- Lower transition bandwidth: 1.00 Hz (-6 dB cutoff frequency: 0.50 Hz)\n",
      "- Upper passband edge: 40.00 Hz\n",
      "- Upper transition bandwidth: 10.00 Hz (-6 dB cutoff frequency: 45.00 Hz)\n",
      "- Filter length: 529 samples (3.306 s)\n",
      "\n",
      "Used Annotations descriptions: [np.str_('T0'), np.str_('T1'), np.str_('T2')]\n",
      "Not setting metadata\n",
      "30 matching events found\n",
      "No baseline correction applied\n",
      "Created an SSP operator (subspace dimension = 1)\n",
      "1 projection items activated\n",
      "Using data from preloaded Raw for 30 events and 321 original time points ...\n",
      "0 bad epochs dropped\n"
     ]
    },
    {
     "name": "stderr",
     "output_type": "stream",
     "text": [
      "[Parallel(n_jobs=1)]: Done  17 tasks      | elapsed:    0.0s\n",
      "[Parallel(n_jobs=1)]: Done  64 out of  64 | elapsed:    0.0s finished\n"
     ]
    }
   ],
   "source": [
    "X_all, y_all = [], []\n",
    "edf_files = [f for f in os.listdir(DATA_DIR) if f.endswith('.edf')]\n",
    "\n",
    "for file in edf_files:\n",
    "    print(f\"🔄 Traitement de {file}\")\n",
    "    raw = mne.io.read_raw_edf(os.path.join(DATA_DIR, file), preload=True)\n",
    "    raw.set_eeg_reference('average', projection=True)\n",
    "    montage = mne.channels.make_standard_montage(\"standard_1020\")\n",
    "    raw.set_montage(montage, on_missing=\"ignore\")\n",
    "\n",
    "    # ⚠️ Supprimer les canaux problématiques\n",
    "    raw.pick_channels([ch for ch in raw.ch_names if ch not in BAD_CHANNELS])\n",
    "\n",
    "    # 🎚️ Filtrage EEG classique\n",
    "    raw.filter(1., 40., fir_design='firwin')\n",
    "\n",
    "    # ⏱️ Extraction des événements\n",
    "    events, _ = mne.events_from_annotations(raw)\n",
    "    epochs = mne.Epochs(raw, events, event_id=EVENT_ID, tmin=0, tmax=2,\n",
    "                        baseline=None, preload=True, detrend=1)\n",
    "\n",
    "    # 🧮 Normalisation Z-score\n",
    "    data = epochs.get_data()\n",
    "    data = (data - data.mean(axis=-1, keepdims=True)) / data.std(axis=-1, keepdims=True)\n",
    "\n",
    "    # 📐 Reshape pour EEGNet : [N, 1, C, T]\n",
    "    X = data[:, np.newaxis, :, :]\n",
    "    y = epochs.events[:, 2]\n",
    "\n",
    "    X_all.append(X)\n",
    "    y_all.append(y)"
   ]
  },
  {
   "cell_type": "code",
   "execution_count": 4,
   "id": "45d7ec0d",
   "metadata": {},
   "outputs": [
    {
     "name": "stdout",
     "output_type": "stream",
     "text": [
      "✅ Données totales : X = (90, 1, 64, 321), y = (90,)\n"
     ]
    }
   ],
   "source": [
    "# 💾 Sauvegarde finale\n",
    "X_all = np.concatenate(X_all, axis=0)\n",
    "y_all = np.concatenate(y_all, axis=0)\n",
    "np.save(\"X_windows.npy\", X_all)\n",
    "np.save(\"y_windows.npy\", y_all)\n",
    "print(f\"✅ Données totales : X = {X_all.shape}, y = {y_all.shape}\")"
   ]
  }
 ],
 "metadata": {
  "kernelspec": {
   "display_name": "Python 3 (ipykernel)",
   "language": "python",
   "name": "python3"
  },
  "language_info": {
   "codemirror_mode": {
    "name": "ipython",
    "version": 3
   },
   "file_extension": ".py",
   "mimetype": "text/x-python",
   "name": "python",
   "nbconvert_exporter": "python",
   "pygments_lexer": "ipython3",
   "version": "3.10.17"
  }
 },
 "nbformat": 4,
 "nbformat_minor": 5
}

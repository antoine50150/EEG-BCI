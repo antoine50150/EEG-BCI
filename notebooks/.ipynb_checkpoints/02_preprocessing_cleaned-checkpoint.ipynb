{
 "cells": [
  {
   "cell_type": "code",
   "execution_count": null,
   "id": "4a7763af",
   "metadata": {},
   "outputs": [],
   "source": [
    "import mne\n",
    "import numpy as np\n",
    "import matplotlib.pyplot as plt\n",
    "\n",
    "# Chargement des données (à adapter pour chaque sujet)\n",
    "raw = mne.io.read_raw_edf(\"data/S001R01.edf\", preload=True)\n",
    "raw.set_eeg_reference('average', projection=True)\n",
    "\n",
    "# Appliquer montage standard\n",
    "montage = mne.channels.make_standard_montage(\"standard_1020\")\n",
    "raw.set_montage(montage, on_missing=\"ignore\")\n",
    "\n",
    "# Supprimer les canaux conflictuels\n",
    "bad_chs = ['FCZ', 'CZ', 'CPZ', 'FP1', 'FPZ', 'FP2', 'AFZ', 'FZ', 'PZ', 'POZ', 'OZ', 'IZ']\n",
    "raw.pick_channels([ch for ch in raw.ch_names if ch not in bad_chs])\n",
    "\n",
    "# Filtrage passe-bande classique EEG\n",
    "raw.filter(1., 40., fir_design='firwin')\n",
    "\n",
    "# Découpage en epochs autour des événements\n",
    "events, _ = mne.events_from_annotations(raw)\n",
    "event_id = dict(rest=1, left=2, right=3)  # Adapter selon annotations\n",
    "\n",
    "epochs = mne.Epochs(raw, events, event_id=event_id, tmin=0, tmax=2,\n",
    "                    baseline=None, preload=True, detrend=1)\n",
    "\n",
    "# Normalisation par z-score\n",
    "data = epochs.get_data()  # shape (n_trials, n_channels, n_times)\n",
    "data = (data - data.mean(axis=-1, keepdims=True)) / data.std(axis=-1, keepdims=True)\n",
    "\n",
    "# Reshape pour EEGNet: [N, 1, C, T]\n",
    "X = data[:, np.newaxis, :, :]\n",
    "y = epochs.events[:, 2]\n",
    "\n",
    "print(f\"✅ Données préparées : X shape = {X.shape}, y shape = {y.shape}\")\n",
    "np.save(\"X_windows.npy\", X)\n",
    "np.save(\"y_windows.npy\", y)\n"
   ]
  }
 ],
 "metadata": {
  "kernelspec": {
   "display_name": "Python 3 (ipykernel)",
   "language": "python",
   "name": "python3"
  },
  "language_info": {
   "codemirror_mode": {
    "name": "ipython",
    "version": 3
   },
   "file_extension": ".py",
   "mimetype": "text/x-python",
   "name": "python",
   "nbconvert_exporter": "python",
   "pygments_lexer": "ipython3",
   "version": "3.10.17"
  }
 },
 "nbformat": 4,
 "nbformat_minor": 5
}

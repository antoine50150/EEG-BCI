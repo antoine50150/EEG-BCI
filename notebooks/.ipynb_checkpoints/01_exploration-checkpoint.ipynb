{
 "cells": [
  {
   "cell_type": "code",
   "execution_count": 1,
   "id": "de3b5790-98cd-45f5-b9ee-7820dd417992",
   "metadata": {},
   "outputs": [
    {
     "ename": "NameError",
     "evalue": "name 'raw' is not defined",
     "output_type": "error",
     "traceback": [
      "\u001b[1;31m---------------------------------------------------------------------------\u001b[0m",
      "\u001b[1;31mNameError\u001b[0m                                 Traceback (most recent call last)",
      "Cell \u001b[1;32mIn[1], line 9\u001b[0m\n\u001b[0;32m      6\u001b[0m files \u001b[38;5;241m=\u001b[39m mne\u001b[38;5;241m.\u001b[39mdatasets\u001b[38;5;241m.\u001b[39meegbci\u001b[38;5;241m.\u001b[39mload_data(subjects\u001b[38;5;241m=\u001b[39m[subject], runs\u001b[38;5;241m=\u001b[39mruns)\n\u001b[0;32m      8\u001b[0m \u001b[38;5;66;03m# Charger le premier fichier EDF pour exploration\u001b[39;00m\n\u001b[1;32m----> 9\u001b[0m \u001b[43mraw\u001b[49m\u001b[38;5;241m.\u001b[39mrename_channels(\u001b[38;5;28;01mlambda\u001b[39;00m name: name\u001b[38;5;241m.\u001b[39mstrip(\u001b[38;5;124m\"\u001b[39m\u001b[38;5;124m.\u001b[39m\u001b[38;5;124m\"\u001b[39m)\u001b[38;5;241m.\u001b[39mupper())\n\u001b[0;32m     10\u001b[0m raw\u001b[38;5;241m.\u001b[39mset_montage(\u001b[38;5;124m\"\u001b[39m\u001b[38;5;124mstandard_1020\u001b[39m\u001b[38;5;124m\"\u001b[39m, on_missing\u001b[38;5;241m=\u001b[39m\u001b[38;5;124m\"\u001b[39m\u001b[38;5;124mignore\u001b[39m\u001b[38;5;124m\"\u001b[39m)\n\u001b[0;32m     12\u001b[0m raw \u001b[38;5;241m=\u001b[39m mne\u001b[38;5;241m.\u001b[39mio\u001b[38;5;241m.\u001b[39mread_raw_edf(files[\u001b[38;5;241m0\u001b[39m], preload\u001b[38;5;241m=\u001b[39m\u001b[38;5;28;01mTrue\u001b[39;00m)\n",
      "\u001b[1;31mNameError\u001b[0m: name 'raw' is not defined"
     ]
    }
   ],
   "source": [
    "import mne\n",
    "\n",
    "# Runs de mouvement main gauche, droite, et les deux\n",
    "runs = [6, 10, 14]\n",
    "subject = 1\n",
    "files = mne.datasets.eegbci.load_data(subjects=[subject], runs=runs)\n",
    "\n",
    "# Charger le premier fichier EDF pour exploration\n",
    "raw.rename_channels(lambda name: name.strip(\".\").upper())\n",
    "raw.set_montage(\"standard_1020\", on_missing=\"ignore\")\n",
    "\n",
    "raw = mne.io.read_raw_edf(files[0], preload=True)\n",
    "raw.rename_channels(lambda name: name.strip(\".\").upper())\n",
    "raw.set_montage(\"standard_1020\", on_missing=\"ignore\")\n",
    "\n",
    "# Affichage\n",
    "print(raw.ch_names)\n"
   ]
  },
  {
   "cell_type": "code",
   "execution_count": null,
   "id": "e16e00c5-868b-45ed-94fc-cacb236271cc",
   "metadata": {},
   "outputs": [],
   "source": [
    "# Affichage d’un extrait du signal EEG (10 premières secondes)\n",
    "raw.plot(start=0, duration=10, scalings='auto')\n"
   ]
  },
  {
   "cell_type": "code",
   "execution_count": null,
   "id": "01354f4a-6bb3-45ab-8a1d-1b5b8fcf517d",
   "metadata": {},
   "outputs": [],
   "source": [
    "# Tracer la PSD des canaux moteurs\n",
    "channels_motor = [\"C3\", \"C4\", \"CZ\", \"FCZ\", \"CPZ\"]\n",
    "raw.compute_psd(picks=channels_motor, fmin=1, fmax=40).plot()\n"
   ]
  },
  {
   "cell_type": "code",
   "execution_count": null,
   "id": "120033c8-96da-49ef-9a17-2d8b46260246",
   "metadata": {},
   "outputs": [],
   "source": [
    "# Affichage topographique (nécessite le montage)\n",
    "psd = raw.compute_psd(fmin=1, fmax=40)\n",
    "psd.plot_topomap(ch_type='eeg', normalize=True)\n"
   ]
  },
  {
   "cell_type": "code",
   "execution_count": 3,
   "id": "c453a295-0ca6-4290-bcfa-49003fe9bf94",
   "metadata": {},
   "outputs": [
    {
     "name": "stderr",
     "output_type": "stream",
     "text": [
      "C:\\Users\\Antoi\\AppData\\Local\\Temp\\ipykernel_114024\\1228021544.py:7: FutureWarning: The ``subject`` parameter is deprecated and will be removed in version 1.9. Use the ``subjects`` parameter (note the `s`) to suppress this warning.\n",
      "  files = mne.datasets.eegbci.load_data(subject=subject, runs=runs)\n"
     ]
    },
    {
     "name": "stdout",
     "output_type": "stream",
     "text": [
      "Extracting EDF parameters from C:\\Users\\Antoi\\mne_data\\MNE-eegbci-data\\files\\eegmmidb\\1.0.0\\S001\\S001R06.edf...\n",
      "EDF file detected\n",
      "Setting channel info structure...\n",
      "Creating raw.info structure...\n",
      "Reading 0 ... 19999  =      0.000 ...   124.994 secs...\n",
      "['FC5', 'FC3', 'FC1', 'FCZ', 'FC2', 'FC4', 'FC6', 'C5', 'C3', 'C1', 'CZ', 'C2', 'C4', 'C6', 'CP5', 'CP3', 'CP1', 'CPZ', 'CP2', 'CP4', 'CP6', 'FP1', 'FPZ', 'FP2', 'AF7', 'AF3', 'AFZ', 'AF4', 'AF8', 'F7', 'F5', 'F3', 'F1', 'FZ', 'F2', 'F4', 'F6', 'F8', 'FT7', 'FT8', 'T7', 'T8', 'T9', 'T10', 'TP7', 'TP8', 'P7', 'P5', 'P3', 'P1', 'PZ', 'P2', 'P4', 'P6', 'P8', 'PO7', 'PO3', 'POZ', 'PO4', 'PO8', 'O1', 'OZ', 'O2', 'IZ']\n",
      "Effective window size : 12.800 (s)\n",
      "Plotting power spectral density (dB=True).\n"
     ]
    },
    {
     "name": "stderr",
     "output_type": "stream",
     "text": [
      "C:\\Users\\Antoi\\miniconda3\\envs\\eeg-bci-env\\lib\\site-packages\\mne\\viz\\utils.py:158: UserWarning: FigureCanvasAgg is non-interactive, and thus cannot be shown\n",
      "  (fig or plt).show(**kwargs)\n"
     ]
    },
    {
     "ename": "ValueError",
     "evalue": "The following electrodes have overlapping positions, which causes problems during visualization:\nCZ, FCZ, CPZ",
     "output_type": "error",
     "traceback": [
      "\u001b[1;31m---------------------------------------------------------------------------\u001b[0m",
      "\u001b[1;31mValueError\u001b[0m                                Traceback (most recent call last)",
      "Cell \u001b[1;32mIn[3], line 33\u001b[0m\n\u001b[0;32m     30\u001b[0m psd\u001b[38;5;241m.\u001b[39mplot()\n\u001b[0;32m     32\u001b[0m \u001b[38;5;66;03m# ✅ Tracer la topomap des puissances (si montage bien appliqué)\u001b[39;00m\n\u001b[1;32m---> 33\u001b[0m \u001b[43mpsd\u001b[49m\u001b[38;5;241;43m.\u001b[39;49m\u001b[43mplot_topomap\u001b[49m\u001b[43m(\u001b[49m\u001b[43mch_type\u001b[49m\u001b[38;5;241;43m=\u001b[39;49m\u001b[38;5;124;43m\"\u001b[39;49m\u001b[38;5;124;43meeg\u001b[39;49m\u001b[38;5;124;43m\"\u001b[39;49m\u001b[43m,\u001b[49m\u001b[43m \u001b[49m\u001b[43mnormalize\u001b[49m\u001b[38;5;241;43m=\u001b[39;49m\u001b[38;5;28;43;01mTrue\u001b[39;49;00m\u001b[43m)\u001b[49m\n",
      "File \u001b[1;32m~\\miniconda3\\envs\\eeg-bci-env\\lib\\site-packages\\mne\\time_frequency\\spectrum.py:849\u001b[0m, in \u001b[0;36mBaseSpectrum.plot_topomap\u001b[1;34m(self, bands, ch_type, normalize, agg_fun, dB, sensors, show_names, mask, mask_params, contours, outlines, sphere, image_interp, extrapolate, border, res, size, cmap, vlim, cnorm, colorbar, cbar_fmt, units, axes, show)\u001b[0m\n\u001b[0;32m    838\u001b[0m scalings \u001b[38;5;241m=\u001b[39m _handle_default(\u001b[38;5;124m\"\u001b[39m\u001b[38;5;124mscalings\u001b[39m\u001b[38;5;124m\"\u001b[39m, \u001b[38;5;28;01mNone\u001b[39;00m)\n\u001b[0;32m    839\u001b[0m scaling \u001b[38;5;241m=\u001b[39m scalings[ch_type]\n\u001b[0;32m    841\u001b[0m (\n\u001b[0;32m    842\u001b[0m     picks,\n\u001b[0;32m    843\u001b[0m     pos,\n\u001b[0;32m    844\u001b[0m     merge_channels,\n\u001b[0;32m    845\u001b[0m     names,\n\u001b[0;32m    846\u001b[0m     ch_type,\n\u001b[0;32m    847\u001b[0m     sphere,\n\u001b[0;32m    848\u001b[0m     clip_origin,\n\u001b[1;32m--> 849\u001b[0m ) \u001b[38;5;241m=\u001b[39m \u001b[43m_prepare_topomap_plot\u001b[49m\u001b[43m(\u001b[49m\u001b[38;5;28;43mself\u001b[39;49m\u001b[43m,\u001b[49m\u001b[43m \u001b[49m\u001b[43mch_type\u001b[49m\u001b[43m,\u001b[49m\u001b[43m \u001b[49m\u001b[43msphere\u001b[49m\u001b[38;5;241;43m=\u001b[39;49m\u001b[43msphere\u001b[49m\u001b[43m)\u001b[49m\n\u001b[0;32m    850\u001b[0m outlines \u001b[38;5;241m=\u001b[39m _make_head_outlines(sphere, pos, outlines, clip_origin)\n\u001b[0;32m    852\u001b[0m psds, freqs \u001b[38;5;241m=\u001b[39m \u001b[38;5;28mself\u001b[39m\u001b[38;5;241m.\u001b[39mget_data(picks\u001b[38;5;241m=\u001b[39mpicks, return_freqs\u001b[38;5;241m=\u001b[39m\u001b[38;5;28;01mTrue\u001b[39;00m)\n",
      "File \u001b[1;32m~\\miniconda3\\envs\\eeg-bci-env\\lib\\site-packages\\mne\\viz\\topomap.py:127\u001b[0m, in \u001b[0;36m_prepare_topomap_plot\u001b[1;34m(inst, ch_type, sphere)\u001b[0m\n\u001b[0;32m    124\u001b[0m info\u001b[38;5;241m.\u001b[39m_check_consistency()\n\u001b[0;32m    126\u001b[0m \u001b[38;5;66;03m# special case for merging grad channels\u001b[39;00m\n\u001b[1;32m--> 127\u001b[0m layout \u001b[38;5;241m=\u001b[39m \u001b[43mfind_layout\u001b[49m\u001b[43m(\u001b[49m\u001b[43minfo\u001b[49m\u001b[43m)\u001b[49m\n\u001b[0;32m    128\u001b[0m \u001b[38;5;28;01mif\u001b[39;00m (\n\u001b[0;32m    129\u001b[0m     ch_type \u001b[38;5;241m==\u001b[39m \u001b[38;5;124m\"\u001b[39m\u001b[38;5;124mgrad\u001b[39m\u001b[38;5;124m\"\u001b[39m\n\u001b[0;32m    130\u001b[0m     \u001b[38;5;129;01mand\u001b[39;00m layout \u001b[38;5;129;01mis\u001b[39;00m \u001b[38;5;129;01mnot\u001b[39;00m \u001b[38;5;28;01mNone\u001b[39;00m\n\u001b[1;32m   (...)\u001b[0m\n\u001b[0;32m    134\u001b[0m     )\n\u001b[0;32m    135\u001b[0m ):\n\u001b[0;32m    136\u001b[0m     picks, _ \u001b[38;5;241m=\u001b[39m _pair_grad_sensors(info, layout)\n",
      "File \u001b[1;32m~\\miniconda3\\envs\\eeg-bci-env\\lib\\site-packages\\mne\\channels\\layout.py:627\u001b[0m, in \u001b[0;36mfind_layout\u001b[1;34m(info, ch_type, exclude)\u001b[0m\n\u001b[0;32m    622\u001b[0m     \u001b[38;5;28;01mif\u001b[39;00m \u001b[38;5;129;01mnot\u001b[39;00m \u001b[38;5;28misinstance\u001b[39m(info, \u001b[38;5;28mdict\u001b[39m \u001b[38;5;241m|\u001b[39m Info):\n\u001b[0;32m    623\u001b[0m         \u001b[38;5;28;01mraise\u001b[39;00m \u001b[38;5;167;01mRuntimeError\u001b[39;00m(\n\u001b[0;32m    624\u001b[0m             \u001b[38;5;124m\"\u001b[39m\u001b[38;5;124mCannot make EEG layout, no measurement info \u001b[39m\u001b[38;5;124m\"\u001b[39m\n\u001b[0;32m    625\u001b[0m             \u001b[38;5;124m\"\u001b[39m\u001b[38;5;124mwas passed to `find_layout`\u001b[39m\u001b[38;5;124m\"\u001b[39m\n\u001b[0;32m    626\u001b[0m         )\n\u001b[1;32m--> 627\u001b[0m     \u001b[38;5;28;01mreturn\u001b[39;00m \u001b[43mmake_eeg_layout\u001b[49m\u001b[43m(\u001b[49m\u001b[43minfo\u001b[49m\u001b[43m,\u001b[49m\u001b[43m \u001b[49m\u001b[43mexclude\u001b[49m\u001b[38;5;241;43m=\u001b[39;49m\u001b[43mexclude\u001b[49m\u001b[43m)\u001b[49m\n\u001b[0;32m    628\u001b[0m \u001b[38;5;28;01melif\u001b[39;00m has_csd_coils \u001b[38;5;129;01mand\u001b[39;00m ch_type \u001b[38;5;129;01min\u001b[39;00m [\u001b[38;5;28;01mNone\u001b[39;00m, \u001b[38;5;124m\"\u001b[39m\u001b[38;5;124mcsd\u001b[39m\u001b[38;5;124m\"\u001b[39m]:\n\u001b[0;32m    629\u001b[0m     \u001b[38;5;28;01mreturn\u001b[39;00m make_eeg_layout(info, exclude\u001b[38;5;241m=\u001b[39mexclude, csd\u001b[38;5;241m=\u001b[39m\u001b[38;5;28;01mTrue\u001b[39;00m)\n",
      "File \u001b[1;32m~\\miniconda3\\envs\\eeg-bci-env\\lib\\site-packages\\mne\\channels\\layout.py:447\u001b[0m, in \u001b[0;36mmake_eeg_layout\u001b[1;34m(info, radius, width, height, exclude, csd)\u001b[0m\n\u001b[0;32m    445\u001b[0m     pick_kwargs\u001b[38;5;241m.\u001b[39mupdate(csd\u001b[38;5;241m=\u001b[39m\u001b[38;5;28;01mTrue\u001b[39;00m, eeg\u001b[38;5;241m=\u001b[39m\u001b[38;5;28;01mFalse\u001b[39;00m)\n\u001b[0;32m    446\u001b[0m picks \u001b[38;5;241m=\u001b[39m pick_types(info, \u001b[38;5;241m*\u001b[39m\u001b[38;5;241m*\u001b[39mpick_kwargs)\n\u001b[1;32m--> 447\u001b[0m loc2d \u001b[38;5;241m=\u001b[39m \u001b[43m_find_topomap_coords\u001b[49m\u001b[43m(\u001b[49m\u001b[43minfo\u001b[49m\u001b[43m,\u001b[49m\u001b[43m \u001b[49m\u001b[43mpicks\u001b[49m\u001b[43m)\u001b[49m\n\u001b[0;32m    448\u001b[0m names \u001b[38;5;241m=\u001b[39m [info[\u001b[38;5;124m\"\u001b[39m\u001b[38;5;124mchs\u001b[39m\u001b[38;5;124m\"\u001b[39m][i][\u001b[38;5;124m\"\u001b[39m\u001b[38;5;124mch_name\u001b[39m\u001b[38;5;124m\"\u001b[39m] \u001b[38;5;28;01mfor\u001b[39;00m i \u001b[38;5;129;01min\u001b[39;00m picks]\n\u001b[0;32m    450\u001b[0m \u001b[38;5;66;03m# Scale [x, y] to be in the range [-0.5, 0.5]\u001b[39;00m\n\u001b[0;32m    451\u001b[0m \u001b[38;5;66;03m# Don't mess with the origin or aspect ratio\u001b[39;00m\n",
      "File \u001b[1;32m~\\miniconda3\\envs\\eeg-bci-env\\lib\\site-packages\\mne\\channels\\layout.py:858\u001b[0m, in \u001b[0;36m_find_topomap_coords\u001b[1;34m(info, picks, layout, ignore_overlap, to_sphere, sphere)\u001b[0m\n\u001b[0;32m    856\u001b[0m     pos \u001b[38;5;241m=\u001b[39m np\u001b[38;5;241m.\u001b[39masarray(pos)\n\u001b[0;32m    857\u001b[0m \u001b[38;5;28;01melse\u001b[39;00m:\n\u001b[1;32m--> 858\u001b[0m     pos \u001b[38;5;241m=\u001b[39m \u001b[43m_auto_topomap_coords\u001b[49m\u001b[43m(\u001b[49m\n\u001b[0;32m    859\u001b[0m \u001b[43m        \u001b[49m\u001b[43minfo\u001b[49m\u001b[43m,\u001b[49m\n\u001b[0;32m    860\u001b[0m \u001b[43m        \u001b[49m\u001b[43mpicks\u001b[49m\u001b[43m,\u001b[49m\n\u001b[0;32m    861\u001b[0m \u001b[43m        \u001b[49m\u001b[43mignore_overlap\u001b[49m\u001b[38;5;241;43m=\u001b[39;49m\u001b[43mignore_overlap\u001b[49m\u001b[43m,\u001b[49m\n\u001b[0;32m    862\u001b[0m \u001b[43m        \u001b[49m\u001b[43mto_sphere\u001b[49m\u001b[38;5;241;43m=\u001b[39;49m\u001b[43mto_sphere\u001b[49m\u001b[43m,\u001b[49m\n\u001b[0;32m    863\u001b[0m \u001b[43m        \u001b[49m\u001b[43msphere\u001b[49m\u001b[38;5;241;43m=\u001b[39;49m\u001b[43msphere\u001b[49m\u001b[43m,\u001b[49m\n\u001b[0;32m    864\u001b[0m \u001b[43m    \u001b[49m\u001b[43m)\u001b[49m\n\u001b[0;32m    866\u001b[0m \u001b[38;5;28;01mreturn\u001b[39;00m pos\n",
      "File \u001b[1;32m~\\miniconda3\\envs\\eeg-bci-env\\lib\\site-packages\\mne\\channels\\layout.py:972\u001b[0m, in \u001b[0;36m_auto_topomap_coords\u001b[1;34m(info, picks, ignore_overlap, to_sphere, sphere)\u001b[0m\n\u001b[0;32m    966\u001b[0m \u001b[38;5;28;01mif\u001b[39;00m \u001b[38;5;28mlen\u001b[39m(locs3d) \u001b[38;5;241m>\u001b[39m \u001b[38;5;241m1\u001b[39m \u001b[38;5;129;01mand\u001b[39;00m np\u001b[38;5;241m.\u001b[39mmin(dist) \u001b[38;5;241m<\u001b[39m \u001b[38;5;241m1e-10\u001b[39m \u001b[38;5;129;01mand\u001b[39;00m \u001b[38;5;129;01mnot\u001b[39;00m ignore_overlap:\n\u001b[0;32m    967\u001b[0m     problematic_electrodes \u001b[38;5;241m=\u001b[39m [\n\u001b[0;32m    968\u001b[0m         chs[elec_i][\u001b[38;5;124m\"\u001b[39m\u001b[38;5;124mch_name\u001b[39m\u001b[38;5;124m\"\u001b[39m]\n\u001b[0;32m    969\u001b[0m         \u001b[38;5;28;01mfor\u001b[39;00m elec_i \u001b[38;5;129;01min\u001b[39;00m squareform(dist \u001b[38;5;241m<\u001b[39m \u001b[38;5;241m1e-10\u001b[39m)\u001b[38;5;241m.\u001b[39many(axis\u001b[38;5;241m=\u001b[39m\u001b[38;5;241m0\u001b[39m)\u001b[38;5;241m.\u001b[39mnonzero()[\u001b[38;5;241m0\u001b[39m]\n\u001b[0;32m    970\u001b[0m     ]\n\u001b[1;32m--> 972\u001b[0m     \u001b[38;5;28;01mraise\u001b[39;00m \u001b[38;5;167;01mValueError\u001b[39;00m(\n\u001b[0;32m    973\u001b[0m         \u001b[38;5;124m\"\u001b[39m\u001b[38;5;124mThe following electrodes have overlapping positions,\u001b[39m\u001b[38;5;124m\"\u001b[39m\n\u001b[0;32m    974\u001b[0m         \u001b[38;5;124m\"\u001b[39m\u001b[38;5;124m which causes problems during visualization:\u001b[39m\u001b[38;5;130;01m\\n\u001b[39;00m\u001b[38;5;124m\"\u001b[39m\n\u001b[0;32m    975\u001b[0m         \u001b[38;5;241m+\u001b[39m \u001b[38;5;124m\"\u001b[39m\u001b[38;5;124m, \u001b[39m\u001b[38;5;124m\"\u001b[39m\u001b[38;5;241m.\u001b[39mjoin(problematic_electrodes)\n\u001b[0;32m    976\u001b[0m     )\n\u001b[0;32m    978\u001b[0m \u001b[38;5;28;01mif\u001b[39;00m to_sphere:\n\u001b[0;32m    979\u001b[0m     \u001b[38;5;66;03m# translate to sphere origin, transform/flatten Z, translate back\u001b[39;00m\n\u001b[0;32m    980\u001b[0m     locs3d \u001b[38;5;241m-\u001b[39m\u001b[38;5;241m=\u001b[39m sphere[:\u001b[38;5;241m3\u001b[39m]\n",
      "\u001b[1;31mValueError\u001b[0m: The following electrodes have overlapping positions, which causes problems during visualization:\nCZ, FCZ, CPZ"
     ]
    },
    {
     "name": "stdout",
     "output_type": "stream",
     "text": [
      "Channels marked as bad:\n",
      "none\n"
     ]
    }
   ],
   "source": [
    "# Détection automatique des positions qui se chevauchent\n",
    "from mne.channels import make_standard_montage\n",
    "\n",
    "# Appliquer le montage standard (avec positions valides)\n",
    "montage = make_standard_montage(\"standard_1005\")\n",
    "raw.set_montage(montage, on_missing=\"ignore\")\n",
    "\n",
    "# Corriger les conflits en supprimant les canaux problématiques\n",
    "raw.drop_channels([\"CZ\", \"FCZ\", \"CPZ\"])\n",
    "\n",
    "# Affichage PSD sur les autres électrodes moteur (ex : C3, C4, CP1, CP2)\n",
    "channels_motor = [\"C3\", \"C4\", \"CP1\", \"CP2\"]\n",
    "psd = raw.compute_psd(picks=channels_motor, fmin=1, fmax=40)\n",
    "psd.plot()\n",
    "\n",
    "# ✅ Topomap sans canaux conflictuels\n",
    "psd.plot_topomap(ch_type=\"eeg\", normalize=True)\n"
   ]
  },
  {
   "cell_type": "code",
   "execution_count": null,
   "id": "86dd42e0-4ed3-40e9-b933-bf1d4d79a4b9",
   "metadata": {},
   "outputs": [],
   "source": []
  }
 ],
 "metadata": {
  "kernelspec": {
   "display_name": "Python 3 (ipykernel)",
   "language": "python",
   "name": "python3"
  },
  "language_info": {
   "codemirror_mode": {
    "name": "ipython",
    "version": 3
   },
   "file_extension": ".py",
   "mimetype": "text/x-python",
   "name": "python",
   "nbconvert_exporter": "python",
   "pygments_lexer": "ipython3",
   "version": "3.10.17"
  }
 },
 "nbformat": 4,
 "nbformat_minor": 5
}

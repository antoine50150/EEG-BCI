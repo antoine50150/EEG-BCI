{
 "cells": [
  {
   "cell_type": "code",
   "execution_count": 2,
   "id": "de3b5790-98cd-45f5-b9ee-7820dd417992",
   "metadata": {},
   "outputs": [
    {
     "ename": "ModuleNotFoundError",
     "evalue": "No module named 'mne'",
     "output_type": "error",
     "traceback": [
      "\u001b[31m---------------------------------------------------------------------------\u001b[39m",
      "\u001b[31mModuleNotFoundError\u001b[39m                       Traceback (most recent call last)",
      "\u001b[36mCell\u001b[39m\u001b[36m \u001b[39m\u001b[32mIn[2]\u001b[39m\u001b[32m, line 1\u001b[39m\n\u001b[32m----> \u001b[39m\u001b[32m1\u001b[39m \u001b[38;5;28;01mimport\u001b[39;00m\u001b[38;5;250m \u001b[39m\u001b[34;01mmne\u001b[39;00m\n\u001b[32m      2\u001b[39m \u001b[38;5;28;01mimport\u001b[39;00m\u001b[38;5;250m \u001b[39m\u001b[34;01mmatplotlib\u001b[39;00m\u001b[34;01m.\u001b[39;00m\u001b[34;01mpyplot\u001b[39;00m\u001b[38;5;250m \u001b[39m\u001b[38;5;28;01mas\u001b[39;00m\u001b[38;5;250m \u001b[39m\u001b[34;01mplt\u001b[39;00m\n\u001b[32m      4\u001b[39m \u001b[38;5;66;03m# Télécharger les données du sujet 1 pour les runs de mouvement imaginaire (gauche/droite)\u001b[39;00m\n\u001b[32m      5\u001b[39m \u001b[38;5;66;03m# Runs 6 = gauche, 10 = droite, 14 = les deux\u001b[39;00m\n",
      "\u001b[31mModuleNotFoundError\u001b[39m: No module named 'mne'"
     ]
    }
   ],
   "source": [
    "import mne                      # Pour charger et manipuler les données EEG\n",
    "import numpy as np             # Pour les tableaux et opérations numériques\n",
    "import pandas as pd            # (facultatif ici) utile pour explorer les métadonnées\n",
    "import matplotlib.pyplot as plt  # Pour visualiser les signaux\n",
    "import seaborn as sns          # Pour les jolis graphs\n",
    "\n",
    "\n",
    "# Télécharger les données du sujet 1 pour les runs de mouvement imaginaire (gauche/droite)\n",
    "# Runs 6 = gauche, 10 = droite, 14 = les deux\n",
    "runs = [6, 10, 14]\n",
    "subject = 1\n",
    "files = mne.datasets.eegbci.load_data(subject=subject, runs=runs)\n",
    "\n",
    "# Charger les signaux bruts\n",
    "raw = mne.io.read_raw_edf(files, preload=True)\n",
    "raw\n"
   ]
  },
  {
   "cell_type": "code",
   "execution_count": 3,
   "id": "e16e00c5-868b-45ed-94fc-cacb236271cc",
   "metadata": {},
   "outputs": [
    {
     "ename": "NameError",
     "evalue": "name 'raw' is not defined",
     "output_type": "error",
     "traceback": [
      "\u001b[31m---------------------------------------------------------------------------\u001b[39m",
      "\u001b[31mNameError\u001b[39m                                 Traceback (most recent call last)",
      "\u001b[36mCell\u001b[39m\u001b[36m \u001b[39m\u001b[32mIn[3]\u001b[39m\u001b[32m, line 2\u001b[39m\n\u001b[32m      1\u001b[39m \u001b[38;5;66;03m# Infos sur l'enregistrement EEG\u001b[39;00m\n\u001b[32m----> \u001b[39m\u001b[32m2\u001b[39m \u001b[43mraw\u001b[49m.info\n",
      "\u001b[31mNameError\u001b[39m: name 'raw' is not defined"
     ]
    }
   ],
   "source": [
    "# Infos sur l'enregistrement EEG\n",
    "raw.info\n"
   ]
  },
  {
   "cell_type": "code",
   "execution_count": 4,
   "id": "01354f4a-6bb3-45ab-8a1d-1b5b8fcf517d",
   "metadata": {},
   "outputs": [
    {
     "ename": "NameError",
     "evalue": "name 'raw' is not defined",
     "output_type": "error",
     "traceback": [
      "\u001b[31m---------------------------------------------------------------------------\u001b[39m",
      "\u001b[31mNameError\u001b[39m                                 Traceback (most recent call last)",
      "\u001b[36mCell\u001b[39m\u001b[36m \u001b[39m\u001b[32mIn[4]\u001b[39m\u001b[32m, line 2\u001b[39m\n\u001b[32m      1\u001b[39m \u001b[38;5;66;03m# Afficher les 10 premières secondes, 20 canaux\u001b[39;00m\n\u001b[32m----> \u001b[39m\u001b[32m2\u001b[39m \u001b[43mraw\u001b[49m.plot(duration=\u001b[32m10\u001b[39m, n_channels=\u001b[32m20\u001b[39m, scalings=\u001b[33m'\u001b[39m\u001b[33mauto\u001b[39m\u001b[33m'\u001b[39m, title=\u001b[33m\"\u001b[39m\u001b[33mEEG brut - sujet 1\u001b[39m\u001b[33m\"\u001b[39m, show=\u001b[38;5;28;01mTrue\u001b[39;00m)\n",
      "\u001b[31mNameError\u001b[39m: name 'raw' is not defined"
     ]
    }
   ],
   "source": [
    "# Afficher les 10 premières secondes, 20 canaux\n",
    "raw.plot(duration=10, n_channels=20, scalings='auto', title=\"EEG brut - sujet 1\", show=True)\n"
   ]
  },
  {
   "cell_type": "code",
   "execution_count": 5,
   "id": "120033c8-96da-49ef-9a17-2d8b46260246",
   "metadata": {},
   "outputs": [
    {
     "ename": "NameError",
     "evalue": "name 'raw' is not defined",
     "output_type": "error",
     "traceback": [
      "\u001b[31m---------------------------------------------------------------------------\u001b[39m",
      "\u001b[31mNameError\u001b[39m                                 Traceback (most recent call last)",
      "\u001b[36mCell\u001b[39m\u001b[36m \u001b[39m\u001b[32mIn[5]\u001b[39m\u001b[32m, line 2\u001b[39m\n\u001b[32m      1\u001b[39m \u001b[38;5;66;03m# Canal d’intérêt (e.g. C3 ou C4, zones motrices)\u001b[39;00m\n\u001b[32m----> \u001b[39m\u001b[32m2\u001b[39m \u001b[43mraw\u001b[49m.plot_psd(picks=\u001b[33m'\u001b[39m\u001b[33mC3\u001b[39m\u001b[33m'\u001b[39m, fmin=\u001b[32m1\u001b[39m, fmax=\u001b[32m40\u001b[39m)\n",
      "\u001b[31mNameError\u001b[39m: name 'raw' is not defined"
     ]
    }
   ],
   "source": [
    "# Canal d’intérêt (e.g. C3 ou C4, zones motrices)\n",
    "raw.plot_psd(picks='C3', fmin=1, fmax=40)\n"
   ]
  },
  {
   "cell_type": "code",
   "execution_count": null,
   "id": "c962fd8a-1f87-4e23-a347-2c2da63cc959",
   "metadata": {},
   "outputs": [],
   "source": []
  },
  {
   "cell_type": "code",
   "execution_count": null,
   "id": "c4f46af2-8184-4fdb-8796-0cbc4736bbe2",
   "metadata": {},
   "outputs": [],
   "source": []
  }
 ],
 "metadata": {
  "kernelspec": {
   "display_name": "Python 3 (ipykernel)",
   "language": "python",
   "name": "python3"
  },
  "language_info": {
   "codemirror_mode": {
    "name": "ipython",
    "version": 3
   },
   "file_extension": ".py",
   "mimetype": "text/x-python",
   "name": "python",
   "nbconvert_exporter": "python",
   "pygments_lexer": "ipython3",
   "version": "3.13.2"
  }
 },
 "nbformat": 4,
 "nbformat_minor": 5
}

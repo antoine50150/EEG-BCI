{
 "cells": [
  {
   "cell_type": "code",
   "execution_count": null,
   "id": "e01b6038",
   "metadata": {},
   "outputs": [],
   "source": [
    "import mne\n",
    "from mne.channels import make_standard_montage\n",
    "import matplotlib.pyplot as plt\n",
    "\n",
    "# Appliquer le montage standard sans lever d’erreur sur les électrodes manquantes\n",
    "montage = make_standard_montage(\"standard_1020\")\n",
    "raw.set_montage(montage, on_missing=\"ignore\")\n",
    "\n",
    "# Détection manuelle des électrodes qui posent des soucis de chevauchement (topo plot)\n",
    "overlapping_chs = ['FCZ', 'CZ', 'CPZ', 'FP1', 'FPZ', 'FP2', 'AFZ', 'FZ', 'PZ', 'POZ', 'OZ', 'IZ']\n",
    "good_chs = [ch for ch in raw.info['ch_names'] if ch not in overlapping_chs]\n",
    "\n",
    "# Calcul du PSD uniquement sur les bons canaux EEG\n",
    "psd = raw.copy().pick_channels(good_chs).compute_psd(fmin=1, fmax=40)\n",
    "\n",
    "# Affichage de la topomap propre\n",
    "psd.plot_topomap(ch_type='eeg', normalize=True)\n"
   ]
  }
 ],
 "metadata": {
  "kernelspec": {
   "display_name": "Python 3 (ipykernel)",
   "language": "python",
   "name": "python3"
  },
  "language_info": {
   "name": "python",
   "version": "3.10"
  }
 },
 "nbformat": 4,
 "nbformat_minor": 5
}

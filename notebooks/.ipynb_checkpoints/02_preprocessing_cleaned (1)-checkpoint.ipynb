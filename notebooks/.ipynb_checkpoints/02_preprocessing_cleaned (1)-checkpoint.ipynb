{
 "cells": [
  {
   "cell_type": "markdown",
   "id": "d4b6b310",
   "metadata": {},
   "source": [
    "# 📦 Prétraitement EEG – Multi-sujets avec structure réutilisable"
   ]
  },
  {
   "cell_type": "code",
   "execution_count": null,
   "id": "0a40e719",
   "metadata": {},
   "outputs": [],
   "source": [
    "import os\n",
    "import mne\n",
    "import numpy as np\n",
    "import matplotlib.pyplot as plt"
   ]
  },
  {
   "cell_type": "code",
   "execution_count": null,
   "id": "a9c7d1e0",
   "metadata": {},
   "outputs": [],
   "source": [
    "# 📁 Répertoire contenant les fichiers EDF\n",
    "DATA_DIR = r\"C:\\Users\\Antoi\\Documents\\EEG-BCI\\data\\raw\\physionet\"\n",
    "BAD_CHANNELS = ['FCZ', 'CZ', 'CPZ', 'FP1', 'FPZ', 'FP2', 'AFZ', 'FZ', 'PZ', 'POZ', 'OZ', 'IZ']\n",
    "EVENT_ID = dict(rest=1, left=2, right=3)  # À ajuster selon les annotations exactes"
   ]
  },
  {
   "cell_type": "code",
   "execution_count": null,
   "id": "ac6ba4e4",
   "metadata": {},
   "outputs": [],
   "source": [
    "X_all, y_all = [], []\n",
    "edf_files = [f for f in os.listdir(DATA_DIR) if f.endswith('.edf')]\n",
    "\n",
    "for file in edf_files:\n",
    "    print(f\"🔄 Traitement de {file}\")\n",
    "    raw = mne.io.read_raw_edf(os.path.join(DATA_DIR, file), preload=True)\n",
    "    raw.set_eeg_reference('average', projection=True)\n",
    "    montage = mne.channels.make_standard_montage(\"standard_1020\")\n",
    "    raw.set_montage(montage, on_missing=\"ignore\")\n",
    "\n",
    "    # ⚠️ Supprimer les canaux problématiques\n",
    "    raw.pick_channels([ch for ch in raw.ch_names if ch not in BAD_CHANNELS])\n",
    "\n",
    "    # 🎚️ Filtrage EEG classique\n",
    "    raw.filter(1., 40., fir_design='firwin')\n",
    "\n",
    "    # ⏱️ Extraction des événements\n",
    "    events, _ = mne.events_from_annotations(raw)\n",
    "    epochs = mne.Epochs(raw, events, event_id=EVENT_ID, tmin=0, tmax=2,\n",
    "                        baseline=None, preload=True, detrend=1)\n",
    "\n",
    "    # 🧮 Normalisation Z-score\n",
    "    data = epochs.get_data()\n",
    "    data = (data - data.mean(axis=-1, keepdims=True)) / data.std(axis=-1, keepdims=True)\n",
    "\n",
    "    # 📐 Reshape pour EEGNet : [N, 1, C, T]\n",
    "    X = data[:, np.newaxis, :, :]\n",
    "    y = epochs.events[:, 2]\n",
    "\n",
    "    X_all.append(X)\n",
    "    y_all.append(y)"
   ]
  },
  {
   "cell_type": "code",
   "execution_count": null,
   "id": "45d7ec0d",
   "metadata": {},
   "outputs": [],
   "source": [
    "# 💾 Sauvegarde finale\n",
    "X_all = np.concatenate(X_all, axis=0)\n",
    "y_all = np.concatenate(y_all, axis=0)\n",
    "np.save(\"X_windows.npy\", X_all)\n",
    "np.save(\"y_windows.npy\", y_all)\n",
    "print(f\"✅ Données totales : X = {X_all.shape}, y = {y_all.shape}\")"
   ]
  }
 ],
 "metadata": {},
 "nbformat": 4,
 "nbformat_minor": 5
}

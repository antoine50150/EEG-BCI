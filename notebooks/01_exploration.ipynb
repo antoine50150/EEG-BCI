{
 "cells": [
  {
   "cell_type": "code",
   "execution_count": null,
   "id": "de3b5790-98cd-45f5-b9ee-7820dd417992",
   "metadata": {},
   "outputs": [],
   "source": [
    "import mne                      # Pour charger et manipuler les données EEG\n",
    "import numpy as np             # Pour les tableaux et opérations numériques\n",
    "import pandas as pd            # (facultatif ici) utile pour explorer les métadonnées\n",
    "import matplotlib.pyplot as plt  # Pour visualiser les signaux\n",
    "import seaborn as sns          # Pour les jolis graphs\n",
    "\n",
    "\n",
    "# Télécharger les données du sujet 1 pour les runs de mouvement imaginaire (gauche/droite)\n",
    "# Runs 6 = gauche, 10 = droite, 14 = les deux\n",
    "runs = [6, 10, 14]\n",
    "subject = 1\n",
    "files = mne.datasets.eegbci.load_data(subject=subject, runs=runs)\n",
    "\n",
    "# Charger les signaux bruts\n",
    "raw = mne.io.read_raw_edf(files, preload=True)\n",
    "raw\n"
   ]
  },
  {
   "cell_type": "code",
   "execution_count": null,
   "id": "e16e00c5-868b-45ed-94fc-cacb236271cc",
   "metadata": {},
   "outputs": [],
   "source": [
    "# Infos sur l'enregistrement EEG\n",
    "raw.info\n"
   ]
  },
  {
   "cell_type": "code",
   "execution_count": null,
   "id": "01354f4a-6bb3-45ab-8a1d-1b5b8fcf517d",
   "metadata": {},
   "outputs": [],
   "source": [
    "# Afficher les 10 premières secondes, 20 canaux\n",
    "raw.plot(duration=10, n_channels=20, scalings='auto', title=\"EEG brut - sujet 1\", show=True)\n"
   ]
  },
  {
   "cell_type": "code",
   "execution_count": null,
   "id": "120033c8-96da-49ef-9a17-2d8b46260246",
   "metadata": {},
   "outputs": [],
   "source": [
    "# Canal d’intérêt (e.g. C3 ou C4, zones motrices)\n",
    "raw.plot_psd(picks='C3', fmin=1, fmax=40)\n"
   ]
  }
 ],
 "metadata": {
  "kernelspec": {
   "display_name": "Python 3 (ipykernel)",
   "language": "python",
   "name": "python3"
  },
  "language_info": {
   "codemirror_mode": {
    "name": "ipython",
    "version": 3
   },
   "file_extension": ".py",
   "mimetype": "text/x-python",
   "name": "python",
   "nbconvert_exporter": "python",
   "pygments_lexer": "ipython3",
   "version": "3.10.17"
  }
 },
 "nbformat": 4,
 "nbformat_minor": 5
}

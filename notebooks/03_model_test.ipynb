{
 "cells": [
  {
   "cell_type": "code",
   "execution_count": 2,
   "id": "ee64660e-6b05-41b9-8a6b-9285661a9abc",
   "metadata": {},
   "outputs": [
    {
     "name": "stdout",
     "output_type": "stream",
     "text": [
      "Shape output : torch.Size([4, 3])\n"
     ]
    }
   ],
   "source": [
    "import sys, os\n",
    "import torch\n",
    "\n",
    "# Ajouter le dossier racine du projet au chemin Python\n",
    "project_root = os.path.abspath(os.path.join(os.getcwd(), \"..\"))\n",
    "sys.path.append(project_root)\n",
    "\n",
    "# Maintenant on peut importer le modèle\n",
    "from src.models.eegnet import EEGNetLight\n",
    "\n",
    "# Paramètres simulés\n",
    "n_channels = 64\n",
    "n_timepoints = 640\n",
    "n_classes = 3\n",
    "batch_size = 4\n",
    "\n",
    "# Dummy batch EEG\n",
    "x = torch.randn(batch_size, 1, n_channels, n_timepoints)  # [B, 1, C, T]\n",
    "\n",
    "# Instancier le modèle\n",
    "model = EEGNetLight(n_channels=n_channels, n_timepoints=n_timepoints, n_classes=n_classes)\n",
    "\n",
    "# Propagation avant\n",
    "out = model(x)\n",
    "print(f\"Shape output : {out.shape}\")\n"
   ]
  },
  {
   "cell_type": "code",
   "execution_count": null,
   "id": "937a2f54-aa6d-4d22-8d2c-d414ec49c303",
   "metadata": {},
   "outputs": [],
   "source": []
  }
 ],
 "metadata": {
  "kernelspec": {
   "display_name": "Python 3 (ipykernel)",
   "language": "python",
   "name": "python3"
  },
  "language_info": {
   "codemirror_mode": {
    "name": "ipython",
    "version": 3
   },
   "file_extension": ".py",
   "mimetype": "text/x-python",
   "name": "python",
   "nbconvert_exporter": "python",
   "pygments_lexer": "ipython3",
   "version": "3.10.17"
  }
 },
 "nbformat": 4,
 "nbformat_minor": 5
}
